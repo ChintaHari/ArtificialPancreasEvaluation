{
 "cells": [
  {
   "cell_type": "code",
   "execution_count": 13,
   "metadata": {},
   "outputs": [],
   "source": [
    "import pandas as pd\n",
    "import numpy as np"
   ]
  },
  {
   "cell_type": "code",
   "execution_count": 20,
   "metadata": {},
   "outputs": [],
   "source": [
    "cgm_data=pd.read_csv('CGMData.csv',low_memory=False,usecols=['Date','Time','Sensor Glucose (mg/dL)'])\n",
    "insulin_data=pd.read_csv('InsulinData.csv',low_memory=False)"
   ]
  },
  {
   "cell_type": "code",
   "execution_count": 21,
   "metadata": {},
   "outputs": [
    {
     "data": {
      "text/html": [
       "<div>\n",
       "<style scoped>\n",
       "    .dataframe tbody tr th:only-of-type {\n",
       "        vertical-align: middle;\n",
       "    }\n",
       "\n",
       "    .dataframe tbody tr th {\n",
       "        vertical-align: top;\n",
       "    }\n",
       "\n",
       "    .dataframe thead th {\n",
       "        text-align: right;\n",
       "    }\n",
       "</style>\n",
       "<table border=\"1\" class=\"dataframe\">\n",
       "  <thead>\n",
       "    <tr style=\"text-align: right;\">\n",
       "      <th></th>\n",
       "      <th>Date</th>\n",
       "      <th>Time</th>\n",
       "      <th>Sensor Glucose (mg/dL)</th>\n",
       "      <th>date_time_stamp</th>\n",
       "    </tr>\n",
       "  </thead>\n",
       "  <tbody>\n",
       "    <tr>\n",
       "      <th>0</th>\n",
       "      <td>2/12/2018</td>\n",
       "      <td>13:22:27</td>\n",
       "      <td>118.0</td>\n",
       "      <td>2018-02-12 13:22:27</td>\n",
       "    </tr>\n",
       "    <tr>\n",
       "      <th>1</th>\n",
       "      <td>2/12/2018</td>\n",
       "      <td>13:17:27</td>\n",
       "      <td>122.0</td>\n",
       "      <td>2018-02-12 13:17:27</td>\n",
       "    </tr>\n",
       "    <tr>\n",
       "      <th>2</th>\n",
       "      <td>2/12/2018</td>\n",
       "      <td>13:12:27</td>\n",
       "      <td>NaN</td>\n",
       "      <td>2018-02-12 13:12:27</td>\n",
       "    </tr>\n",
       "    <tr>\n",
       "      <th>3</th>\n",
       "      <td>2/12/2018</td>\n",
       "      <td>13:07:27</td>\n",
       "      <td>NaN</td>\n",
       "      <td>2018-02-12 13:07:27</td>\n",
       "    </tr>\n",
       "    <tr>\n",
       "      <th>4</th>\n",
       "      <td>2/12/2018</td>\n",
       "      <td>13:02:27</td>\n",
       "      <td>NaN</td>\n",
       "      <td>2018-02-12 13:02:27</td>\n",
       "    </tr>\n",
       "    <tr>\n",
       "      <th>...</th>\n",
       "      <td>...</td>\n",
       "      <td>...</td>\n",
       "      <td>...</td>\n",
       "      <td>...</td>\n",
       "    </tr>\n",
       "    <tr>\n",
       "      <th>55338</th>\n",
       "      <td>7/25/2017</td>\n",
       "      <td>12:28:54</td>\n",
       "      <td>311.0</td>\n",
       "      <td>2017-07-25 12:28:54</td>\n",
       "    </tr>\n",
       "    <tr>\n",
       "      <th>55339</th>\n",
       "      <td>7/25/2017</td>\n",
       "      <td>12:23:54</td>\n",
       "      <td>311.0</td>\n",
       "      <td>2017-07-25 12:23:54</td>\n",
       "    </tr>\n",
       "    <tr>\n",
       "      <th>55340</th>\n",
       "      <td>7/25/2017</td>\n",
       "      <td>12:18:54</td>\n",
       "      <td>309.0</td>\n",
       "      <td>2017-07-25 12:18:54</td>\n",
       "    </tr>\n",
       "    <tr>\n",
       "      <th>55341</th>\n",
       "      <td>7/25/2017</td>\n",
       "      <td>12:13:54</td>\n",
       "      <td>310.0</td>\n",
       "      <td>2017-07-25 12:13:54</td>\n",
       "    </tr>\n",
       "    <tr>\n",
       "      <th>55342</th>\n",
       "      <td>7/25/2017</td>\n",
       "      <td>12:08:54</td>\n",
       "      <td>314.0</td>\n",
       "      <td>2017-07-25 12:08:54</td>\n",
       "    </tr>\n",
       "  </tbody>\n",
       "</table>\n",
       "<p>55343 rows × 4 columns</p>\n",
       "</div>"
      ],
      "text/plain": [
       "            Date      Time  Sensor Glucose (mg/dL)     date_time_stamp\n",
       "0      2/12/2018  13:22:27                   118.0 2018-02-12 13:22:27\n",
       "1      2/12/2018  13:17:27                   122.0 2018-02-12 13:17:27\n",
       "2      2/12/2018  13:12:27                     NaN 2018-02-12 13:12:27\n",
       "3      2/12/2018  13:07:27                     NaN 2018-02-12 13:07:27\n",
       "4      2/12/2018  13:02:27                     NaN 2018-02-12 13:02:27\n",
       "...          ...       ...                     ...                 ...\n",
       "55338  7/25/2017  12:28:54                   311.0 2017-07-25 12:28:54\n",
       "55339  7/25/2017  12:23:54                   311.0 2017-07-25 12:23:54\n",
       "55340  7/25/2017  12:18:54                   309.0 2017-07-25 12:18:54\n",
       "55341  7/25/2017  12:13:54                   310.0 2017-07-25 12:13:54\n",
       "55342  7/25/2017  12:08:54                   314.0 2017-07-25 12:08:54\n",
       "\n",
       "[55343 rows x 4 columns]"
      ]
     },
     "execution_count": 21,
     "metadata": {},
     "output_type": "execute_result"
    }
   ],
   "source": [
    "cgm_data['date_time_stamp']=pd.to_datetime(cgm_data['Date'] + ' ' + cgm_data['Time'])\n",
    "cgm_data"
   ]
  },
  {
   "cell_type": "code",
   "execution_count": 22,
   "metadata": {},
   "outputs": [
    {
     "data": {
      "text/plain": [
       "array(['2/12/2018', '2/11/2018', '2/10/2018', '2/9/2018', '2/8/2018',\n",
       "       '2/7/2018', '2/6/2018', '2/5/2018', '2/4/2018', '2/3/2018',\n",
       "       '2/2/2018', '2/1/2018', '1/31/2018', '1/30/2018', '1/29/2018',\n",
       "       '1/28/2018', '1/27/2018', '1/26/2018', '1/25/2018', '1/24/2018',\n",
       "       '1/23/2018', '1/22/2018', '1/20/2018', '1/17/2018', '1/16/2018',\n",
       "       '1/15/2018', '1/14/2018', '1/13/2018', '1/12/2018', '1/11/2018',\n",
       "       '1/1/2018', '12/31/2017', '12/30/2017', '12/29/2017', '12/28/2017',\n",
       "       '12/27/2017', '12/26/2017', '12/25/2017', '12/24/2017',\n",
       "       '12/22/2017', '12/21/2017', '12/20/2017', '12/19/2017',\n",
       "       '12/17/2017', '12/16/2017', '12/15/2017', '12/14/2017',\n",
       "       '12/13/2017', '12/10/2017', '12/9/2017', '12/8/2017', '12/7/2017',\n",
       "       '12/6/2017', '12/5/2017', '12/4/2017', '12/2/2017', '11/30/2017',\n",
       "       '11/29/2017', '11/28/2017', '11/27/2017', '11/26/2017',\n",
       "       '11/25/2017', '11/23/2017', '11/22/2017', '11/21/2017',\n",
       "       '11/20/2017', '11/19/2017', '11/18/2017', '11/17/2017',\n",
       "       '11/16/2017', '11/15/2017', '11/14/2017', '11/13/2017',\n",
       "       '11/10/2017', '11/8/2017', '11/7/2017', '11/6/2017', '11/5/2017',\n",
       "       '11/4/2017', '11/3/2017', '11/2/2017', '11/1/2017', '10/31/2017',\n",
       "       '10/30/2017', '10/29/2017', '10/28/2017', '10/25/2017',\n",
       "       '10/24/2017', '10/23/2017', '10/22/2017', '10/21/2017',\n",
       "       '10/19/2017', '10/18/2017', '10/17/2017', '10/16/2017',\n",
       "       '10/15/2017', '10/14/2017', '10/13/2017', '10/12/2017',\n",
       "       '10/10/2017', '10/9/2017', '10/8/2017', '10/7/2017', '10/6/2017',\n",
       "       '10/5/2017', '10/4/2017', '10/3/2017', '10/2/2017', '10/1/2017',\n",
       "       '9/30/2017', '9/29/2017', '9/28/2017', '9/27/2017', '9/26/2017',\n",
       "       '9/25/2017', '9/24/2017', '9/22/2017', '9/20/2017', '9/19/2017',\n",
       "       '9/18/2017', '9/13/2017', '9/12/2017', '9/11/2017', '9/9/2017',\n",
       "       '9/8/2017', '9/7/2017', '9/6/2017', '9/5/2017', '9/2/2017',\n",
       "       '9/1/2017', '8/29/2017', '8/28/2017', '8/27/2017', '8/26/2017',\n",
       "       '8/25/2017', '8/23/2017', '8/22/2017', '8/21/2017', '8/20/2017',\n",
       "       '8/18/2017', '8/17/2017', '8/16/2017', '8/15/2017', '8/14/2017',\n",
       "       '8/13/2017', '8/11/2017', '8/10/2017', '8/8/2017', '8/7/2017',\n",
       "       '8/6/2017', '8/5/2017', '8/4/2017', '7/31/2017', '7/30/2017',\n",
       "       '7/29/2017', '7/28/2017', '7/27/2017', '7/25/2017'], dtype=object)"
      ]
     },
     "execution_count": 22,
     "metadata": {},
     "output_type": "execute_result"
    }
   ],
   "source": [
    "date_to_remove=cgm_data[cgm_data['Sensor Glucose (mg/dL)'].isna()]['Date'].unique()\n",
    "date_to_remove"
   ]
  },
  {
   "cell_type": "code",
   "execution_count": 23,
   "metadata": {},
   "outputs": [
    {
     "data": {
      "text/html": [
       "<div>\n",
       "<style scoped>\n",
       "    .dataframe tbody tr th:only-of-type {\n",
       "        vertical-align: middle;\n",
       "    }\n",
       "\n",
       "    .dataframe tbody tr th {\n",
       "        vertical-align: top;\n",
       "    }\n",
       "\n",
       "    .dataframe thead th {\n",
       "        text-align: right;\n",
       "    }\n",
       "</style>\n",
       "<table border=\"1\" class=\"dataframe\">\n",
       "  <thead>\n",
       "    <tr style=\"text-align: right;\">\n",
       "      <th></th>\n",
       "      <th>Date</th>\n",
       "      <th>Time</th>\n",
       "      <th>Sensor Glucose (mg/dL)</th>\n",
       "      <th>date_time_stamp</th>\n",
       "    </tr>\n",
       "  </thead>\n",
       "  <tbody>\n",
       "    <tr>\n",
       "      <th>0</th>\n",
       "      <td>1/21/2018</td>\n",
       "      <td>23:59:18</td>\n",
       "      <td>91.0</td>\n",
       "      <td>2018-01-21 23:59:18</td>\n",
       "    </tr>\n",
       "    <tr>\n",
       "      <th>1</th>\n",
       "      <td>1/21/2018</td>\n",
       "      <td>23:54:18</td>\n",
       "      <td>93.0</td>\n",
       "      <td>2018-01-21 23:54:18</td>\n",
       "    </tr>\n",
       "    <tr>\n",
       "      <th>2</th>\n",
       "      <td>1/21/2018</td>\n",
       "      <td>23:49:18</td>\n",
       "      <td>95.0</td>\n",
       "      <td>2018-01-21 23:49:18</td>\n",
       "    </tr>\n",
       "    <tr>\n",
       "      <th>3</th>\n",
       "      <td>1/21/2018</td>\n",
       "      <td>23:44:18</td>\n",
       "      <td>98.0</td>\n",
       "      <td>2018-01-21 23:44:18</td>\n",
       "    </tr>\n",
       "    <tr>\n",
       "      <th>4</th>\n",
       "      <td>1/21/2018</td>\n",
       "      <td>23:39:18</td>\n",
       "      <td>101.0</td>\n",
       "      <td>2018-01-21 23:39:18</td>\n",
       "    </tr>\n",
       "    <tr>\n",
       "      <th>...</th>\n",
       "      <td>...</td>\n",
       "      <td>...</td>\n",
       "      <td>...</td>\n",
       "      <td>...</td>\n",
       "    </tr>\n",
       "    <tr>\n",
       "      <th>10380</th>\n",
       "      <td>7/26/2017</td>\n",
       "      <td>0:23:57</td>\n",
       "      <td>72.0</td>\n",
       "      <td>2017-07-26 00:23:57</td>\n",
       "    </tr>\n",
       "    <tr>\n",
       "      <th>10381</th>\n",
       "      <td>7/26/2017</td>\n",
       "      <td>0:18:57</td>\n",
       "      <td>67.0</td>\n",
       "      <td>2017-07-26 00:18:57</td>\n",
       "    </tr>\n",
       "    <tr>\n",
       "      <th>10382</th>\n",
       "      <td>7/26/2017</td>\n",
       "      <td>0:13:57</td>\n",
       "      <td>64.0</td>\n",
       "      <td>2017-07-26 00:13:57</td>\n",
       "    </tr>\n",
       "    <tr>\n",
       "      <th>10383</th>\n",
       "      <td>7/26/2017</td>\n",
       "      <td>0:08:57</td>\n",
       "      <td>64.0</td>\n",
       "      <td>2017-07-26 00:08:57</td>\n",
       "    </tr>\n",
       "    <tr>\n",
       "      <th>10384</th>\n",
       "      <td>7/26/2017</td>\n",
       "      <td>0:03:57</td>\n",
       "      <td>65.0</td>\n",
       "      <td>2017-07-26 00:03:57</td>\n",
       "    </tr>\n",
       "  </tbody>\n",
       "</table>\n",
       "<p>10385 rows × 4 columns</p>\n",
       "</div>"
      ],
      "text/plain": [
       "            Date      Time  Sensor Glucose (mg/dL)     date_time_stamp\n",
       "0      1/21/2018  23:59:18                    91.0 2018-01-21 23:59:18\n",
       "1      1/21/2018  23:54:18                    93.0 2018-01-21 23:54:18\n",
       "2      1/21/2018  23:49:18                    95.0 2018-01-21 23:49:18\n",
       "3      1/21/2018  23:44:18                    98.0 2018-01-21 23:44:18\n",
       "4      1/21/2018  23:39:18                   101.0 2018-01-21 23:39:18\n",
       "...          ...       ...                     ...                 ...\n",
       "10380  7/26/2017   0:23:57                    72.0 2017-07-26 00:23:57\n",
       "10381  7/26/2017   0:18:57                    67.0 2017-07-26 00:18:57\n",
       "10382  7/26/2017   0:13:57                    64.0 2017-07-26 00:13:57\n",
       "10383  7/26/2017   0:08:57                    64.0 2017-07-26 00:08:57\n",
       "10384  7/26/2017   0:03:57                    65.0 2017-07-26 00:03:57\n",
       "\n",
       "[10385 rows x 4 columns]"
      ]
     },
     "execution_count": 23,
     "metadata": {},
     "output_type": "execute_result"
    }
   ],
   "source": [
    "cgm_data=cgm_data.set_index('Date').drop(index=date_to_remove).reset_index()\n",
    "cgm_data"
   ]
  },
  {
   "cell_type": "code",
   "execution_count": 24,
   "metadata": {},
   "outputs": [
    {
     "name": "stdout",
     "output_type": "stream",
     "text": [
      "0\n"
     ]
    }
   ],
   "source": [
    "print(cgm_data[\"Sensor Glucose (mg/dL)\"].isnull().sum())\n",
    "cgm_test=cgm_data.copy()"
   ]
  },
  {
   "cell_type": "code",
   "execution_count": 25,
   "metadata": {},
   "outputs": [
    {
     "data": {
      "text/html": [
       "<div>\n",
       "<style scoped>\n",
       "    .dataframe tbody tr th:only-of-type {\n",
       "        vertical-align: middle;\n",
       "    }\n",
       "\n",
       "    .dataframe tbody tr th {\n",
       "        vertical-align: top;\n",
       "    }\n",
       "\n",
       "    .dataframe thead th {\n",
       "        text-align: right;\n",
       "    }\n",
       "</style>\n",
       "<table border=\"1\" class=\"dataframe\">\n",
       "  <thead>\n",
       "    <tr style=\"text-align: right;\">\n",
       "      <th></th>\n",
       "      <th>Date</th>\n",
       "      <th>Time</th>\n",
       "      <th>Sensor Glucose (mg/dL)</th>\n",
       "      <th>date_time_stamp</th>\n",
       "    </tr>\n",
       "    <tr>\n",
       "      <th>date_time_stamp</th>\n",
       "      <th></th>\n",
       "      <th></th>\n",
       "      <th></th>\n",
       "      <th></th>\n",
       "    </tr>\n",
       "  </thead>\n",
       "  <tbody>\n",
       "    <tr>\n",
       "      <th>2018-01-21 23:59:18</th>\n",
       "      <td>1/21/2018</td>\n",
       "      <td>23:59:18</td>\n",
       "      <td>91.0</td>\n",
       "      <td>2018-01-21 23:59:18</td>\n",
       "    </tr>\n",
       "    <tr>\n",
       "      <th>2018-01-21 23:54:18</th>\n",
       "      <td>1/21/2018</td>\n",
       "      <td>23:54:18</td>\n",
       "      <td>93.0</td>\n",
       "      <td>2018-01-21 23:54:18</td>\n",
       "    </tr>\n",
       "    <tr>\n",
       "      <th>2018-01-21 23:49:18</th>\n",
       "      <td>1/21/2018</td>\n",
       "      <td>23:49:18</td>\n",
       "      <td>95.0</td>\n",
       "      <td>2018-01-21 23:49:18</td>\n",
       "    </tr>\n",
       "    <tr>\n",
       "      <th>2018-01-21 23:44:18</th>\n",
       "      <td>1/21/2018</td>\n",
       "      <td>23:44:18</td>\n",
       "      <td>98.0</td>\n",
       "      <td>2018-01-21 23:44:18</td>\n",
       "    </tr>\n",
       "    <tr>\n",
       "      <th>2018-01-21 23:39:18</th>\n",
       "      <td>1/21/2018</td>\n",
       "      <td>23:39:18</td>\n",
       "      <td>101.0</td>\n",
       "      <td>2018-01-21 23:39:18</td>\n",
       "    </tr>\n",
       "    <tr>\n",
       "      <th>...</th>\n",
       "      <td>...</td>\n",
       "      <td>...</td>\n",
       "      <td>...</td>\n",
       "      <td>...</td>\n",
       "    </tr>\n",
       "    <tr>\n",
       "      <th>2017-07-26 00:23:57</th>\n",
       "      <td>7/26/2017</td>\n",
       "      <td>0:23:57</td>\n",
       "      <td>72.0</td>\n",
       "      <td>2017-07-26 00:23:57</td>\n",
       "    </tr>\n",
       "    <tr>\n",
       "      <th>2017-07-26 00:18:57</th>\n",
       "      <td>7/26/2017</td>\n",
       "      <td>0:18:57</td>\n",
       "      <td>67.0</td>\n",
       "      <td>2017-07-26 00:18:57</td>\n",
       "    </tr>\n",
       "    <tr>\n",
       "      <th>2017-07-26 00:13:57</th>\n",
       "      <td>7/26/2017</td>\n",
       "      <td>0:13:57</td>\n",
       "      <td>64.0</td>\n",
       "      <td>2017-07-26 00:13:57</td>\n",
       "    </tr>\n",
       "    <tr>\n",
       "      <th>2017-07-26 00:08:57</th>\n",
       "      <td>7/26/2017</td>\n",
       "      <td>0:08:57</td>\n",
       "      <td>64.0</td>\n",
       "      <td>2017-07-26 00:08:57</td>\n",
       "    </tr>\n",
       "    <tr>\n",
       "      <th>2017-07-26 00:03:57</th>\n",
       "      <td>7/26/2017</td>\n",
       "      <td>0:03:57</td>\n",
       "      <td>65.0</td>\n",
       "      <td>2017-07-26 00:03:57</td>\n",
       "    </tr>\n",
       "  </tbody>\n",
       "</table>\n",
       "<p>10385 rows × 4 columns</p>\n",
       "</div>"
      ],
      "text/plain": [
       "                          Date      Time  Sensor Glucose (mg/dL)  \\\n",
       "date_time_stamp                                                    \n",
       "2018-01-21 23:59:18  1/21/2018  23:59:18                    91.0   \n",
       "2018-01-21 23:54:18  1/21/2018  23:54:18                    93.0   \n",
       "2018-01-21 23:49:18  1/21/2018  23:49:18                    95.0   \n",
       "2018-01-21 23:44:18  1/21/2018  23:44:18                    98.0   \n",
       "2018-01-21 23:39:18  1/21/2018  23:39:18                   101.0   \n",
       "...                        ...       ...                     ...   \n",
       "2017-07-26 00:23:57  7/26/2017   0:23:57                    72.0   \n",
       "2017-07-26 00:18:57  7/26/2017   0:18:57                    67.0   \n",
       "2017-07-26 00:13:57  7/26/2017   0:13:57                    64.0   \n",
       "2017-07-26 00:08:57  7/26/2017   0:08:57                    64.0   \n",
       "2017-07-26 00:03:57  7/26/2017   0:03:57                    65.0   \n",
       "\n",
       "                        date_time_stamp  \n",
       "date_time_stamp                          \n",
       "2018-01-21 23:59:18 2018-01-21 23:59:18  \n",
       "2018-01-21 23:54:18 2018-01-21 23:54:18  \n",
       "2018-01-21 23:49:18 2018-01-21 23:49:18  \n",
       "2018-01-21 23:44:18 2018-01-21 23:44:18  \n",
       "2018-01-21 23:39:18 2018-01-21 23:39:18  \n",
       "...                                 ...  \n",
       "2017-07-26 00:23:57 2017-07-26 00:23:57  \n",
       "2017-07-26 00:18:57 2017-07-26 00:18:57  \n",
       "2017-07-26 00:13:57 2017-07-26 00:13:57  \n",
       "2017-07-26 00:08:57 2017-07-26 00:08:57  \n",
       "2017-07-26 00:03:57 2017-07-26 00:03:57  \n",
       "\n",
       "[10385 rows x 4 columns]"
      ]
     },
     "execution_count": 25,
     "metadata": {},
     "output_type": "execute_result"
    }
   ],
   "source": [
    "cgm_test=cgm_test.set_index(pd.DatetimeIndex(cgm_data['date_time_stamp']))\n",
    "cgm_test"
   ]
  },
  {
   "cell_type": "code",
   "execution_count": 26,
   "metadata": {},
   "outputs": [
    {
     "data": {
      "text/html": [
       "<div>\n",
       "<style scoped>\n",
       "    .dataframe tbody tr th:only-of-type {\n",
       "        vertical-align: middle;\n",
       "    }\n",
       "\n",
       "    .dataframe tbody tr th {\n",
       "        vertical-align: top;\n",
       "    }\n",
       "\n",
       "    .dataframe thead th {\n",
       "        text-align: right;\n",
       "    }\n",
       "</style>\n",
       "<table border=\"1\" class=\"dataframe\">\n",
       "  <thead>\n",
       "    <tr style=\"text-align: right;\">\n",
       "      <th></th>\n",
       "      <th>Index</th>\n",
       "      <th>Date</th>\n",
       "      <th>Time</th>\n",
       "      <th>New Device Time</th>\n",
       "      <th>BG Reading (mg/dL)</th>\n",
       "      <th>Linked BG Meter ID</th>\n",
       "      <th>Basal Rate (U/h)</th>\n",
       "      <th>Temp Basal Amount</th>\n",
       "      <th>Temp Basal Type</th>\n",
       "      <th>Temp Basal Duration (h:mm:ss)</th>\n",
       "      <th>...</th>\n",
       "      <th>Insulin Action Curve Time</th>\n",
       "      <th>Sensor Calibration Rejected Reason</th>\n",
       "      <th>Preset Bolus</th>\n",
       "      <th>Bolus Source</th>\n",
       "      <th>Network Device Associated Reason</th>\n",
       "      <th>Network Device Disassociated Reason</th>\n",
       "      <th>Network Device Disconnected Reason</th>\n",
       "      <th>Sensor Exception</th>\n",
       "      <th>Preset Temp Basal Name</th>\n",
       "      <th>date_time_stamp</th>\n",
       "    </tr>\n",
       "  </thead>\n",
       "  <tbody>\n",
       "    <tr>\n",
       "      <th>0</th>\n",
       "      <td>0</td>\n",
       "      <td>2/12/2018</td>\n",
       "      <td>13:20:53</td>\n",
       "      <td>NaN</td>\n",
       "      <td>NaN</td>\n",
       "      <td>NaN</td>\n",
       "      <td>NaN</td>\n",
       "      <td>NaN</td>\n",
       "      <td>NaN</td>\n",
       "      <td>NaN</td>\n",
       "      <td>...</td>\n",
       "      <td>NaN</td>\n",
       "      <td>NaN</td>\n",
       "      <td>NaN</td>\n",
       "      <td>NaN</td>\n",
       "      <td>TEMPORARY</td>\n",
       "      <td>NaN</td>\n",
       "      <td>NaN</td>\n",
       "      <td>NaN</td>\n",
       "      <td>NaN</td>\n",
       "      <td>2018-02-12 13:20:53</td>\n",
       "    </tr>\n",
       "    <tr>\n",
       "      <th>1</th>\n",
       "      <td>1</td>\n",
       "      <td>2/12/2018</td>\n",
       "      <td>13:20:48</td>\n",
       "      <td>NaN</td>\n",
       "      <td>NaN</td>\n",
       "      <td>NaN</td>\n",
       "      <td>NaN</td>\n",
       "      <td>NaN</td>\n",
       "      <td>NaN</td>\n",
       "      <td>NaN</td>\n",
       "      <td>...</td>\n",
       "      <td>NaN</td>\n",
       "      <td>NaN</td>\n",
       "      <td>NaN</td>\n",
       "      <td>NaN</td>\n",
       "      <td>NaN</td>\n",
       "      <td>NaN</td>\n",
       "      <td>NaN</td>\n",
       "      <td>NaN</td>\n",
       "      <td>NaN</td>\n",
       "      <td>2018-02-12 13:20:48</td>\n",
       "    </tr>\n",
       "    <tr>\n",
       "      <th>2</th>\n",
       "      <td>2</td>\n",
       "      <td>2/12/2018</td>\n",
       "      <td>13:18:48</td>\n",
       "      <td>NaN</td>\n",
       "      <td>NaN</td>\n",
       "      <td>NaN</td>\n",
       "      <td>0.0</td>\n",
       "      <td>NaN</td>\n",
       "      <td>NaN</td>\n",
       "      <td>NaN</td>\n",
       "      <td>...</td>\n",
       "      <td>NaN</td>\n",
       "      <td>NaN</td>\n",
       "      <td>NaN</td>\n",
       "      <td>NaN</td>\n",
       "      <td>NaN</td>\n",
       "      <td>NaN</td>\n",
       "      <td>NaN</td>\n",
       "      <td>NaN</td>\n",
       "      <td>NaN</td>\n",
       "      <td>2018-02-12 13:18:48</td>\n",
       "    </tr>\n",
       "    <tr>\n",
       "      <th>3</th>\n",
       "      <td>3</td>\n",
       "      <td>2/12/2018</td>\n",
       "      <td>13:18:48</td>\n",
       "      <td>NaN</td>\n",
       "      <td>NaN</td>\n",
       "      <td>NaN</td>\n",
       "      <td>NaN</td>\n",
       "      <td>NaN</td>\n",
       "      <td>NaN</td>\n",
       "      <td>NaN</td>\n",
       "      <td>...</td>\n",
       "      <td>NaN</td>\n",
       "      <td>NaN</td>\n",
       "      <td>NaN</td>\n",
       "      <td>NaN</td>\n",
       "      <td>NaN</td>\n",
       "      <td>NaN</td>\n",
       "      <td>NaN</td>\n",
       "      <td>NaN</td>\n",
       "      <td>NaN</td>\n",
       "      <td>2018-02-12 13:18:48</td>\n",
       "    </tr>\n",
       "    <tr>\n",
       "      <th>4</th>\n",
       "      <td>4</td>\n",
       "      <td>2/12/2018</td>\n",
       "      <td>13:12:33</td>\n",
       "      <td>NaN</td>\n",
       "      <td>NaN</td>\n",
       "      <td>NaN</td>\n",
       "      <td>NaN</td>\n",
       "      <td>NaN</td>\n",
       "      <td>NaN</td>\n",
       "      <td>NaN</td>\n",
       "      <td>...</td>\n",
       "      <td>NaN</td>\n",
       "      <td>NaN</td>\n",
       "      <td>NaN</td>\n",
       "      <td>CLOSED_LOOP_MICRO_BOLUS</td>\n",
       "      <td>NaN</td>\n",
       "      <td>NaN</td>\n",
       "      <td>NaN</td>\n",
       "      <td>NaN</td>\n",
       "      <td>NaN</td>\n",
       "      <td>2018-02-12 13:12:33</td>\n",
       "    </tr>\n",
       "    <tr>\n",
       "      <th>...</th>\n",
       "      <td>...</td>\n",
       "      <td>...</td>\n",
       "      <td>...</td>\n",
       "      <td>...</td>\n",
       "      <td>...</td>\n",
       "      <td>...</td>\n",
       "      <td>...</td>\n",
       "      <td>...</td>\n",
       "      <td>...</td>\n",
       "      <td>...</td>\n",
       "      <td>...</td>\n",
       "      <td>...</td>\n",
       "      <td>...</td>\n",
       "      <td>...</td>\n",
       "      <td>...</td>\n",
       "      <td>...</td>\n",
       "      <td>...</td>\n",
       "      <td>...</td>\n",
       "      <td>...</td>\n",
       "      <td>...</td>\n",
       "      <td>...</td>\n",
       "    </tr>\n",
       "    <tr>\n",
       "      <th>41430</th>\n",
       "      <td>22135</td>\n",
       "      <td>7/24/2017</td>\n",
       "      <td>19:00:01</td>\n",
       "      <td>NaN</td>\n",
       "      <td>NaN</td>\n",
       "      <td>NaN</td>\n",
       "      <td>0.0</td>\n",
       "      <td>NaN</td>\n",
       "      <td>NaN</td>\n",
       "      <td>NaN</td>\n",
       "      <td>...</td>\n",
       "      <td>NaN</td>\n",
       "      <td>NaN</td>\n",
       "      <td>NaN</td>\n",
       "      <td>NaN</td>\n",
       "      <td>NaN</td>\n",
       "      <td>NaN</td>\n",
       "      <td>NaN</td>\n",
       "      <td>NaN</td>\n",
       "      <td>NaN</td>\n",
       "      <td>2017-07-24 19:00:01</td>\n",
       "    </tr>\n",
       "    <tr>\n",
       "      <th>41431</th>\n",
       "      <td>22136</td>\n",
       "      <td>7/24/2017</td>\n",
       "      <td>18:59:44</td>\n",
       "      <td>NaN</td>\n",
       "      <td>NaN</td>\n",
       "      <td>NaN</td>\n",
       "      <td>0.0</td>\n",
       "      <td>NaN</td>\n",
       "      <td>NaN</td>\n",
       "      <td>NaN</td>\n",
       "      <td>...</td>\n",
       "      <td>NaN</td>\n",
       "      <td>NaN</td>\n",
       "      <td>NaN</td>\n",
       "      <td>NaN</td>\n",
       "      <td>NaN</td>\n",
       "      <td>NaN</td>\n",
       "      <td>NaN</td>\n",
       "      <td>NaN</td>\n",
       "      <td>NaN</td>\n",
       "      <td>2017-07-24 18:59:44</td>\n",
       "    </tr>\n",
       "    <tr>\n",
       "      <th>41432</th>\n",
       "      <td>22137</td>\n",
       "      <td>7/24/2017</td>\n",
       "      <td>18:59:44</td>\n",
       "      <td>NaN</td>\n",
       "      <td>NaN</td>\n",
       "      <td>NaN</td>\n",
       "      <td>NaN</td>\n",
       "      <td>NaN</td>\n",
       "      <td>NaN</td>\n",
       "      <td>NaN</td>\n",
       "      <td>...</td>\n",
       "      <td>NaN</td>\n",
       "      <td>NaN</td>\n",
       "      <td>NaN</td>\n",
       "      <td>NaN</td>\n",
       "      <td>NaN</td>\n",
       "      <td>NaN</td>\n",
       "      <td>NaN</td>\n",
       "      <td>NaN</td>\n",
       "      <td>NaN</td>\n",
       "      <td>2017-07-24 18:59:44</td>\n",
       "    </tr>\n",
       "    <tr>\n",
       "      <th>41433</th>\n",
       "      <td>22138</td>\n",
       "      <td>7/24/2017</td>\n",
       "      <td>18:59:44</td>\n",
       "      <td>NaN</td>\n",
       "      <td>NaN</td>\n",
       "      <td>NaN</td>\n",
       "      <td>NaN</td>\n",
       "      <td>NaN</td>\n",
       "      <td>NaN</td>\n",
       "      <td>NaN</td>\n",
       "      <td>...</td>\n",
       "      <td>NaN</td>\n",
       "      <td>NaN</td>\n",
       "      <td>NaN</td>\n",
       "      <td>NaN</td>\n",
       "      <td>NaN</td>\n",
       "      <td>NaN</td>\n",
       "      <td>NaN</td>\n",
       "      <td>NaN</td>\n",
       "      <td>NaN</td>\n",
       "      <td>2017-07-24 18:59:44</td>\n",
       "    </tr>\n",
       "    <tr>\n",
       "      <th>41434</th>\n",
       "      <td>22139</td>\n",
       "      <td>7/24/2017</td>\n",
       "      <td>18:59:42</td>\n",
       "      <td>7/24/2017 18:59</td>\n",
       "      <td>NaN</td>\n",
       "      <td>NaN</td>\n",
       "      <td>NaN</td>\n",
       "      <td>NaN</td>\n",
       "      <td>NaN</td>\n",
       "      <td>NaN</td>\n",
       "      <td>...</td>\n",
       "      <td>NaN</td>\n",
       "      <td>NaN</td>\n",
       "      <td>NaN</td>\n",
       "      <td>NaN</td>\n",
       "      <td>NaN</td>\n",
       "      <td>NaN</td>\n",
       "      <td>NaN</td>\n",
       "      <td>NaN</td>\n",
       "      <td>NaN</td>\n",
       "      <td>2017-07-24 18:59:42</td>\n",
       "    </tr>\n",
       "  </tbody>\n",
       "</table>\n",
       "<p>41435 rows × 48 columns</p>\n",
       "</div>"
      ],
      "text/plain": [
       "       Index       Date      Time  New Device Time  BG Reading (mg/dL)  \\\n",
       "0          0  2/12/2018  13:20:53              NaN                 NaN   \n",
       "1          1  2/12/2018  13:20:48              NaN                 NaN   \n",
       "2          2  2/12/2018  13:18:48              NaN                 NaN   \n",
       "3          3  2/12/2018  13:18:48              NaN                 NaN   \n",
       "4          4  2/12/2018  13:12:33              NaN                 NaN   \n",
       "...      ...        ...       ...              ...                 ...   \n",
       "41430  22135  7/24/2017  19:00:01              NaN                 NaN   \n",
       "41431  22136  7/24/2017  18:59:44              NaN                 NaN   \n",
       "41432  22137  7/24/2017  18:59:44              NaN                 NaN   \n",
       "41433  22138  7/24/2017  18:59:44              NaN                 NaN   \n",
       "41434  22139  7/24/2017  18:59:42  7/24/2017 18:59                 NaN   \n",
       "\n",
       "       Linked BG Meter ID  Basal Rate (U/h)  Temp Basal Amount  \\\n",
       "0                     NaN               NaN                NaN   \n",
       "1                     NaN               NaN                NaN   \n",
       "2                     NaN               0.0                NaN   \n",
       "3                     NaN               NaN                NaN   \n",
       "4                     NaN               NaN                NaN   \n",
       "...                   ...               ...                ...   \n",
       "41430                 NaN               0.0                NaN   \n",
       "41431                 NaN               0.0                NaN   \n",
       "41432                 NaN               NaN                NaN   \n",
       "41433                 NaN               NaN                NaN   \n",
       "41434                 NaN               NaN                NaN   \n",
       "\n",
       "       Temp Basal Type  Temp Basal Duration (h:mm:ss)  ...  \\\n",
       "0                  NaN                            NaN  ...   \n",
       "1                  NaN                            NaN  ...   \n",
       "2                  NaN                            NaN  ...   \n",
       "3                  NaN                            NaN  ...   \n",
       "4                  NaN                            NaN  ...   \n",
       "...                ...                            ...  ...   \n",
       "41430              NaN                            NaN  ...   \n",
       "41431              NaN                            NaN  ...   \n",
       "41432              NaN                            NaN  ...   \n",
       "41433              NaN                            NaN  ...   \n",
       "41434              NaN                            NaN  ...   \n",
       "\n",
       "      Insulin Action Curve Time  Sensor Calibration Rejected Reason  \\\n",
       "0                           NaN                                 NaN   \n",
       "1                           NaN                                 NaN   \n",
       "2                           NaN                                 NaN   \n",
       "3                           NaN                                 NaN   \n",
       "4                           NaN                                 NaN   \n",
       "...                         ...                                 ...   \n",
       "41430                       NaN                                 NaN   \n",
       "41431                       NaN                                 NaN   \n",
       "41432                       NaN                                 NaN   \n",
       "41433                       NaN                                 NaN   \n",
       "41434                       NaN                                 NaN   \n",
       "\n",
       "       Preset Bolus             Bolus Source Network Device Associated Reason  \\\n",
       "0               NaN                      NaN                        TEMPORARY   \n",
       "1               NaN                      NaN                              NaN   \n",
       "2               NaN                      NaN                              NaN   \n",
       "3               NaN                      NaN                              NaN   \n",
       "4               NaN  CLOSED_LOOP_MICRO_BOLUS                              NaN   \n",
       "...             ...                      ...                              ...   \n",
       "41430           NaN                      NaN                              NaN   \n",
       "41431           NaN                      NaN                              NaN   \n",
       "41432           NaN                      NaN                              NaN   \n",
       "41433           NaN                      NaN                              NaN   \n",
       "41434           NaN                      NaN                              NaN   \n",
       "\n",
       "       Network Device Disassociated Reason Network Device Disconnected Reason  \\\n",
       "0                                      NaN                                NaN   \n",
       "1                                      NaN                                NaN   \n",
       "2                                      NaN                                NaN   \n",
       "3                                      NaN                                NaN   \n",
       "4                                      NaN                                NaN   \n",
       "...                                    ...                                ...   \n",
       "41430                                  NaN                                NaN   \n",
       "41431                                  NaN                                NaN   \n",
       "41432                                  NaN                                NaN   \n",
       "41433                                  NaN                                NaN   \n",
       "41434                                  NaN                                NaN   \n",
       "\n",
       "      Sensor Exception Preset Temp Basal Name     date_time_stamp  \n",
       "0                  NaN                    NaN 2018-02-12 13:20:53  \n",
       "1                  NaN                    NaN 2018-02-12 13:20:48  \n",
       "2                  NaN                    NaN 2018-02-12 13:18:48  \n",
       "3                  NaN                    NaN 2018-02-12 13:18:48  \n",
       "4                  NaN                    NaN 2018-02-12 13:12:33  \n",
       "...                ...                    ...                 ...  \n",
       "41430              NaN                    NaN 2017-07-24 19:00:01  \n",
       "41431              NaN                    NaN 2017-07-24 18:59:44  \n",
       "41432              NaN                    NaN 2017-07-24 18:59:44  \n",
       "41433              NaN                    NaN 2017-07-24 18:59:44  \n",
       "41434              NaN                    NaN 2017-07-24 18:59:42  \n",
       "\n",
       "[41435 rows x 48 columns]"
      ]
     },
     "execution_count": 26,
     "metadata": {},
     "output_type": "execute_result"
    }
   ],
   "source": [
    "insulin_data['date_time_stamp']=pd.to_datetime(insulin_data['Date'] + ' ' + insulin_data['Time'])\n",
    "insulin_data"
   ]
  },
  {
   "cell_type": "code",
   "execution_count": 27,
   "metadata": {},
   "outputs": [
    {
     "name": "stdout",
     "output_type": "stream",
     "text": [
      "2017-08-09 08:07:13\n",
      "<class 'pandas._libs.tslibs.timestamps.Timestamp'>\n"
     ]
    }
   ],
   "source": [
    "start_of_auto_mode=insulin_data.sort_values(by='date_time_stamp',ascending=True).loc[insulin_data['Alarm']=='AUTO MODE ACTIVE PLGM OFF'].iloc[0]['date_time_stamp']\n",
    "print(start_of_auto_mode)\n",
    "print(type(start_of_auto_mode))"
   ]
  },
  {
   "cell_type": "code",
   "execution_count": 28,
   "metadata": {},
   "outputs": [
    {
     "name": "stdout",
     "output_type": "stream",
     "text": [
      "<class 'pandas.core.frame.DataFrame'>\n"
     ]
    }
   ],
   "source": [
    "auto_mode_data_df=cgm_data.sort_values(by='date_time_stamp',ascending=True).loc[cgm_data['date_time_stamp']>=start_of_auto_mode]\n",
    "print(type(auto_mode_data_df))"
   ]
  },
  {
   "cell_type": "code",
   "execution_count": 29,
   "metadata": {},
   "outputs": [],
   "source": [
    "manual_mode_data_df=cgm_data.sort_values(by='date_time_stamp',ascending=True).loc[cgm_data['date_time_stamp']<start_of_auto_mode]"
   ]
  },
  {
   "cell_type": "code",
   "execution_count": 30,
   "metadata": {},
   "outputs": [],
   "source": [
    "auto_mode_data_df_date_index=auto_mode_data_df.copy()"
   ]
  },
  {
   "cell_type": "code",
   "execution_count": 31,
   "metadata": {},
   "outputs": [
    {
     "name": "stdout",
     "output_type": "stream",
     "text": [
      "                          Date      Time  Sensor Glucose (mg/dL)\n",
      "date_time_stamp                                                 \n",
      "2017-08-09 08:10:05   8/9/2017   8:10:05                   173.0\n",
      "2017-08-09 08:15:05   8/9/2017   8:15:05                   177.0\n",
      "2017-08-09 08:20:05   8/9/2017   8:20:05                   176.0\n",
      "2017-08-09 08:25:05   8/9/2017   8:25:05                   175.0\n",
      "2017-08-09 08:30:05   8/9/2017   8:30:05                   177.0\n",
      "...                        ...       ...                     ...\n",
      "2018-01-21 23:39:18  1/21/2018  23:39:18                   101.0\n",
      "2018-01-21 23:44:18  1/21/2018  23:44:18                    98.0\n",
      "2018-01-21 23:49:18  1/21/2018  23:49:18                    95.0\n",
      "2018-01-21 23:54:18  1/21/2018  23:54:18                    93.0\n",
      "2018-01-21 23:59:18  1/21/2018  23:59:18                    91.0\n",
      "\n",
      "[9135 rows x 3 columns]\n"
     ]
    }
   ],
   "source": [
    "auto_mode_data_df_date_index=auto_mode_data_df_date_index.set_index('date_time_stamp')\n",
    "auto_mode_data_df_date_index"
   ]
  },
  {
   "cell_type": "code",
   "execution_count": 32,
   "metadata": {},
   "outputs": [
    {
     "name": "stdout",
     "output_type": "stream",
     "text": [
      "['1/18/2018', '1/19/2018', '1/21/2018', '10/11/2017', '10/20/2017', '10/26/2017', '10/27/2017', '11/11/2017', '11/12/2017', '11/24/2017', '11/9/2017', '12/1/2017', '12/11/2017', '12/12/2017', '12/18/2017', '12/23/2017', '12/3/2017', '8/12/2017', '8/19/2017', '8/24/2017', '8/30/2017', '8/31/2017', '9/10/2017', '9/14/2017', '9/15/2017', '9/16/2017', '9/17/2017', '9/21/2017', '9/23/2017', '9/3/2017', '9/4/2017']\n"
     ]
    }
   ],
   "source": [
    "list1=auto_mode_data_df_date_index.groupby('Date')['Sensor Glucose (mg/dL)'].count().where(lambda x:x>0.8*288).dropna().index.tolist()\n",
    "print(list1)\n",
    "# "
   ]
  },
  {
   "cell_type": "code",
   "execution_count": 33,
   "metadata": {},
   "outputs": [
    {
     "name": "stdout",
     "output_type": "stream",
     "text": [
      "                          Date      Time  Sensor Glucose (mg/dL)\n",
      "date_time_stamp                                                 \n",
      "2017-08-12 00:03:31  8/12/2017   0:03:31                   148.0\n",
      "2017-08-12 00:08:31  8/12/2017   0:08:31                   147.0\n",
      "2017-08-12 00:13:31  8/12/2017   0:13:31                   143.0\n",
      "2017-08-12 00:18:31  8/12/2017   0:18:31                   137.0\n",
      "2017-08-12 00:23:31  8/12/2017   0:23:31                   131.0\n",
      "...                        ...       ...                     ...\n",
      "2018-01-21 23:39:18  1/21/2018  23:39:18                   101.0\n",
      "2018-01-21 23:44:18  1/21/2018  23:44:18                    98.0\n",
      "2018-01-21 23:49:18  1/21/2018  23:49:18                    95.0\n",
      "2018-01-21 23:54:18  1/21/2018  23:54:18                    93.0\n",
      "2018-01-21 23:59:18  1/21/2018  23:59:18                    91.0\n",
      "\n",
      "[8928 rows x 3 columns]\n"
     ]
    }
   ],
   "source": [
    "auto_mode_data_df_date_index=auto_mode_data_df_date_index.loc[auto_mode_data_df_date_index['Date'].isin(list1)]\n",
    "print(auto_mode_data_df_date_index)"
   ]
  },
  {
   "cell_type": "markdown",
   "metadata": {},
   "source": [
    "### % in Hyperglycemia (> 180 mg/dL) - wholeday, daytime, overnight"
   ]
  },
  {
   "cell_type": "code",
   "execution_count": 18,
   "metadata": {},
   "outputs": [
    {
     "ename": "TypeError",
     "evalue": "Index must be DatetimeIndex",
     "output_type": "error",
     "traceback": [
      "\u001b[1;31m---------------------------------------------------------------------------\u001b[0m",
      "\u001b[1;31mTypeError\u001b[0m                                 Traceback (most recent call last)",
      "\u001b[1;32m~\\AppData\\Local\\Temp\\ipykernel_10544\\1223867793.py\u001b[0m in \u001b[0;36m<module>\u001b[1;34m\u001b[0m\n\u001b[1;32m----> 1\u001b[1;33m \u001b[0mpercent_time_in_hyperglycemia_wholeday_automode\u001b[0m\u001b[1;33m=\u001b[0m\u001b[1;33m(\u001b[0m\u001b[0mauto_mode_data_df_date_index\u001b[0m\u001b[1;33m.\u001b[0m\u001b[0mbetween_time\u001b[0m\u001b[1;33m(\u001b[0m\u001b[1;34m'0:00:00'\u001b[0m\u001b[1;33m,\u001b[0m\u001b[1;34m'23:59:59'\u001b[0m\u001b[1;33m)\u001b[0m\u001b[1;33m[\u001b[0m\u001b[1;33m[\u001b[0m\u001b[1;34m'Date'\u001b[0m\u001b[1;33m,\u001b[0m\u001b[1;34m'Time'\u001b[0m\u001b[1;33m,\u001b[0m\u001b[1;34m'Sensor Glucose (mg/dL)'\u001b[0m\u001b[1;33m]\u001b[0m\u001b[1;33m]\u001b[0m\u001b[1;33m.\u001b[0m\u001b[0mloc\u001b[0m\u001b[1;33m[\u001b[0m\u001b[0mauto_mode_data_df_date_index\u001b[0m\u001b[1;33m[\u001b[0m\u001b[1;34m'Sensor Glucose (mg/dL)'\u001b[0m\u001b[1;33m]\u001b[0m\u001b[1;33m>\u001b[0m\u001b[1;36m180\u001b[0m\u001b[1;33m]\u001b[0m\u001b[1;33m.\u001b[0m\u001b[0mgroupby\u001b[0m\u001b[1;33m(\u001b[0m\u001b[1;34m'Date'\u001b[0m\u001b[1;33m)\u001b[0m\u001b[1;33m[\u001b[0m\u001b[1;34m'Sensor Glucose (mg/dL)'\u001b[0m\u001b[1;33m]\u001b[0m\u001b[1;33m.\u001b[0m\u001b[0mcount\u001b[0m\u001b[1;33m(\u001b[0m\u001b[1;33m)\u001b[0m\u001b[1;33m/\u001b[0m\u001b[1;36m288\u001b[0m\u001b[1;33m*\u001b[0m\u001b[1;36m100\u001b[0m\u001b[1;33m)\u001b[0m\u001b[1;33m\u001b[0m\u001b[1;33m\u001b[0m\u001b[0m\n\u001b[0m\u001b[0;32m      2\u001b[0m \u001b[0mprint\u001b[0m\u001b[1;33m(\u001b[0m\u001b[0mpercent_time_in_hyperglycemia_wholeday_automode\u001b[0m\u001b[1;33m)\u001b[0m\u001b[1;33m\u001b[0m\u001b[1;33m\u001b[0m\u001b[0m\n",
      "\u001b[1;32m~\\Miniconda3\\lib\\site-packages\\pandas\\core\\generic.py\u001b[0m in \u001b[0;36mbetween_time\u001b[1;34m(self, start_time, end_time, include_start, include_end, inclusive, axis)\u001b[0m\n\u001b[0;32m   7850\u001b[0m         \u001b[0mindex\u001b[0m \u001b[1;33m=\u001b[0m \u001b[0mself\u001b[0m\u001b[1;33m.\u001b[0m\u001b[0m_get_axis\u001b[0m\u001b[1;33m(\u001b[0m\u001b[0maxis\u001b[0m\u001b[1;33m)\u001b[0m\u001b[1;33m\u001b[0m\u001b[1;33m\u001b[0m\u001b[0m\n\u001b[0;32m   7851\u001b[0m         \u001b[1;32mif\u001b[0m \u001b[1;32mnot\u001b[0m \u001b[0misinstance\u001b[0m\u001b[1;33m(\u001b[0m\u001b[0mindex\u001b[0m\u001b[1;33m,\u001b[0m \u001b[0mDatetimeIndex\u001b[0m\u001b[1;33m)\u001b[0m\u001b[1;33m:\u001b[0m\u001b[1;33m\u001b[0m\u001b[1;33m\u001b[0m\u001b[0m\n\u001b[1;32m-> 7852\u001b[1;33m             \u001b[1;32mraise\u001b[0m \u001b[0mTypeError\u001b[0m\u001b[1;33m(\u001b[0m\u001b[1;34m\"Index must be DatetimeIndex\"\u001b[0m\u001b[1;33m)\u001b[0m\u001b[1;33m\u001b[0m\u001b[1;33m\u001b[0m\u001b[0m\n\u001b[0m\u001b[0;32m   7853\u001b[0m \u001b[1;33m\u001b[0m\u001b[0m\n\u001b[0;32m   7854\u001b[0m         old_include_arg_used = (include_start != lib.no_default) or (\n",
      "\u001b[1;31mTypeError\u001b[0m: Index must be DatetimeIndex"
     ]
    }
   ],
   "source": [
    "    percent_time_in_hyperglycemia_wholeday_automode=(auto_mode_data_df_date_index.between_time('0:00:00','23:59:59')[['Date','Time','Sensor Glucose (mg/dL)']].loc[auto_mode_data_df_date_index['Sensor Glucose (mg/dL)']>180].groupby('Date')['Sensor Glucose (mg/dL)'].count()/288*100)\n",
    "print(percent_time_in_hyperglycemia_wholeday_automode)"
   ]
  },
  {
   "cell_type": "code",
   "execution_count": 17,
   "metadata": {},
   "outputs": [
    {
     "ename": "TypeError",
     "evalue": "Index must be DatetimeIndex",
     "output_type": "error",
     "traceback": [
      "\u001b[1;31m---------------------------------------------------------------------------\u001b[0m",
      "\u001b[1;31mTypeError\u001b[0m                                 Traceback (most recent call last)",
      "\u001b[1;32m~\\AppData\\Local\\Temp\\ipykernel_10544\\1851017051.py\u001b[0m in \u001b[0;36m<module>\u001b[1;34m\u001b[0m\n\u001b[1;32m----> 1\u001b[1;33m \u001b[0mpercent_time_in_hyperglycemia_daytime_automode\u001b[0m\u001b[1;33m=\u001b[0m\u001b[1;33m(\u001b[0m\u001b[0mauto_mode_data_df_date_index\u001b[0m\u001b[1;33m.\u001b[0m\u001b[0mbetween_time\u001b[0m\u001b[1;33m(\u001b[0m\u001b[1;34m'6:00:00'\u001b[0m\u001b[1;33m,\u001b[0m\u001b[1;34m'23:59:59'\u001b[0m\u001b[1;33m)\u001b[0m\u001b[1;33m[\u001b[0m\u001b[1;33m[\u001b[0m\u001b[1;34m'Date'\u001b[0m\u001b[1;33m,\u001b[0m\u001b[1;34m'Time'\u001b[0m\u001b[1;33m,\u001b[0m\u001b[1;34m'Sensor Glucose (mg/dL)'\u001b[0m\u001b[1;33m]\u001b[0m\u001b[1;33m]\u001b[0m\u001b[1;33m.\u001b[0m\u001b[0mloc\u001b[0m\u001b[1;33m[\u001b[0m\u001b[0mauto_mode_data_df_date_index\u001b[0m\u001b[1;33m[\u001b[0m\u001b[1;34m'Sensor Glucose (mg/dL)'\u001b[0m\u001b[1;33m]\u001b[0m\u001b[1;33m>\u001b[0m\u001b[1;36m180\u001b[0m\u001b[1;33m]\u001b[0m\u001b[1;33m.\u001b[0m\u001b[0mgroupby\u001b[0m\u001b[1;33m(\u001b[0m\u001b[1;34m'Date'\u001b[0m\u001b[1;33m)\u001b[0m\u001b[1;33m[\u001b[0m\u001b[1;34m'Sensor Glucose (mg/dL)'\u001b[0m\u001b[1;33m]\u001b[0m\u001b[1;33m.\u001b[0m\u001b[0mcount\u001b[0m\u001b[1;33m(\u001b[0m\u001b[1;33m)\u001b[0m\u001b[1;33m/\u001b[0m\u001b[1;36m288\u001b[0m\u001b[1;33m*\u001b[0m\u001b[1;36m100\u001b[0m\u001b[1;33m)\u001b[0m\u001b[1;33m\u001b[0m\u001b[1;33m\u001b[0m\u001b[0m\n\u001b[0m",
      "\u001b[1;32m~\\Miniconda3\\lib\\site-packages\\pandas\\core\\generic.py\u001b[0m in \u001b[0;36mbetween_time\u001b[1;34m(self, start_time, end_time, include_start, include_end, inclusive, axis)\u001b[0m\n\u001b[0;32m   7850\u001b[0m         \u001b[0mindex\u001b[0m \u001b[1;33m=\u001b[0m \u001b[0mself\u001b[0m\u001b[1;33m.\u001b[0m\u001b[0m_get_axis\u001b[0m\u001b[1;33m(\u001b[0m\u001b[0maxis\u001b[0m\u001b[1;33m)\u001b[0m\u001b[1;33m\u001b[0m\u001b[1;33m\u001b[0m\u001b[0m\n\u001b[0;32m   7851\u001b[0m         \u001b[1;32mif\u001b[0m \u001b[1;32mnot\u001b[0m \u001b[0misinstance\u001b[0m\u001b[1;33m(\u001b[0m\u001b[0mindex\u001b[0m\u001b[1;33m,\u001b[0m \u001b[0mDatetimeIndex\u001b[0m\u001b[1;33m)\u001b[0m\u001b[1;33m:\u001b[0m\u001b[1;33m\u001b[0m\u001b[1;33m\u001b[0m\u001b[0m\n\u001b[1;32m-> 7852\u001b[1;33m             \u001b[1;32mraise\u001b[0m \u001b[0mTypeError\u001b[0m\u001b[1;33m(\u001b[0m\u001b[1;34m\"Index must be DatetimeIndex\"\u001b[0m\u001b[1;33m)\u001b[0m\u001b[1;33m\u001b[0m\u001b[1;33m\u001b[0m\u001b[0m\n\u001b[0m\u001b[0;32m   7853\u001b[0m \u001b[1;33m\u001b[0m\u001b[0m\n\u001b[0;32m   7854\u001b[0m         old_include_arg_used = (include_start != lib.no_default) or (\n",
      "\u001b[1;31mTypeError\u001b[0m: Index must be DatetimeIndex"
     ]
    }
   ],
   "source": [
    "percent_time_in_hyperglycemia_daytime_automode=(auto_mode_data_df_date_index.between_time('6:00:00','23:59:59')[['Date','Time','Sensor Glucose (mg/dL)']].loc[auto_mode_data_df_date_index['Sensor Glucose (mg/dL)']>180].groupby('Date')['Sensor Glucose (mg/dL)'].count()/288*100)"
   ]
  },
  {
   "cell_type": "code",
   "execution_count": 18,
   "metadata": {},
   "outputs": [],
   "source": [
    "percent_time_in_hyperglycemia_overnight_automode=(auto_mode_data_df_date_index.between_time('0:00:00','05:59:59')[['Date','Time','Sensor Glucose (mg/dL)']].loc[auto_mode_data_df_date_index['Sensor Glucose (mg/dL)']>180].groupby('Date')['Sensor Glucose (mg/dL)'].count()/288*100)"
   ]
  },
  {
   "cell_type": "markdown",
   "metadata": {},
   "source": [
    "### % in Hyperglycemia critical (> 250 mg/dL) - wholeday, daytime, overnight"
   ]
  },
  {
   "cell_type": "code",
   "execution_count": 19,
   "metadata": {},
   "outputs": [],
   "source": [
    "percent_time_in_hyperglycemia_critical_wholeday_automode=(auto_mode_data_df_date_index.between_time('0:00:00','23:59:59')[['Date','Time','Sensor Glucose (mg/dL)']].loc[auto_mode_data_df_date_index['Sensor Glucose (mg/dL)']>250].groupby('Date')['Sensor Glucose (mg/dL)'].count()/288*100)"
   ]
  },
  {
   "cell_type": "code",
   "execution_count": 20,
   "metadata": {},
   "outputs": [],
   "source": [
    "percent_time_in_hyperglycemia_critical_daytime_automode=(auto_mode_data_df_date_index.between_time('6:00:00','23:59:59')[['Date','Time','Sensor Glucose (mg/dL)']].loc[auto_mode_data_df_date_index['Sensor Glucose (mg/dL)']>250].groupby('Date')['Sensor Glucose (mg/dL)'].count()/288*100)"
   ]
  },
  {
   "cell_type": "code",
   "execution_count": 21,
   "metadata": {},
   "outputs": [],
   "source": [
    "percent_time_in_hyperglycemia_critical_overnight_automode=(auto_mode_data_df_date_index.between_time('0:00:00','05:59:59')[['Date','Time','Sensor Glucose (mg/dL)']].loc[auto_mode_data_df_date_index['Sensor Glucose (mg/dL)']>250].groupby('Date')['Sensor Glucose (mg/dL)'].count()/288*100)"
   ]
  },
  {
   "cell_type": "markdown",
   "metadata": {},
   "source": [
    "### %  in range (CGM >= 70 mg/dL and CGM <= 180 mg/dL) - wholeday, daytime, overnight"
   ]
  },
  {
   "cell_type": "code",
   "execution_count": 22,
   "metadata": {},
   "outputs": [],
   "source": [
    "percent_time_in_range_wholeday_automode=(auto_mode_data_df_date_index.between_time('0:00:00','23:59:59')[['Date','Time','Sensor Glucose (mg/dL)']].loc[(auto_mode_data_df_date_index['Sensor Glucose (mg/dL)']>=70) & (auto_mode_data_df_date_index['Sensor Glucose (mg/dL)']<=180)].groupby('Date')['Sensor Glucose (mg/dL)'].count()/288*100)"
   ]
  },
  {
   "cell_type": "code",
   "execution_count": 23,
   "metadata": {},
   "outputs": [],
   "source": [
    "percent_time_in_range_daytime_automode=(auto_mode_data_df_date_index.between_time('6:00:00','23:59:59')[['Date','Time','Sensor Glucose (mg/dL)']].loc[(auto_mode_data_df_date_index['Sensor Glucose (mg/dL)']>=70) & (auto_mode_data_df_date_index['Sensor Glucose (mg/dL)']<=180)].groupby('Date')['Sensor Glucose (mg/dL)'].count()/288*100)"
   ]
  },
  {
   "cell_type": "code",
   "execution_count": 24,
   "metadata": {},
   "outputs": [],
   "source": [
    "percent_time_in_range_overnight_automode=(auto_mode_data_df_date_index.between_time('0:00:00','05:59:59')[['Date','Time','Sensor Glucose (mg/dL)']].loc[(auto_mode_data_df_date_index['Sensor Glucose (mg/dL)']>=70) & (auto_mode_data_df_date_index['Sensor Glucose (mg/dL)']<=180)].groupby('Date')['Sensor Glucose (mg/dL)'].count()/288*100)"
   ]
  },
  {
   "cell_type": "markdown",
   "metadata": {},
   "source": [
    "### %  in range secondary (CGM >= 70 mg/dL and CGM <= 150 mg/dL) - wholeday, daytime, overnight"
   ]
  },
  {
   "cell_type": "code",
   "execution_count": 25,
   "metadata": {},
   "outputs": [],
   "source": [
    "percent_time_in_range_sec_wholeday_automode=(auto_mode_data_df_date_index.between_time('0:00:00','23:59:59')[['Date','Time','Sensor Glucose (mg/dL)']].loc[(auto_mode_data_df_date_index['Sensor Glucose (mg/dL)']>=70) & (auto_mode_data_df_date_index['Sensor Glucose (mg/dL)']<=150)].groupby('Date')['Sensor Glucose (mg/dL)'].count()/288*100)"
   ]
  },
  {
   "cell_type": "code",
   "execution_count": 26,
   "metadata": {},
   "outputs": [],
   "source": [
    "percent_time_in_range_sec_daytime_automode=(auto_mode_data_df_date_index.between_time('6:00:00','23:59:59')[['Date','Time','Sensor Glucose (mg/dL)']].loc[(auto_mode_data_df_date_index['Sensor Glucose (mg/dL)']>=70) & (auto_mode_data_df_date_index['Sensor Glucose (mg/dL)']<=150)].groupby('Date')['Sensor Glucose (mg/dL)'].count()/288*100)"
   ]
  },
  {
   "cell_type": "code",
   "execution_count": 27,
   "metadata": {},
   "outputs": [],
   "source": [
    "percent_time_in_range_sec_overnight_automode=(auto_mode_data_df_date_index.between_time('0:00:00','05:59:59')[['Date','Time','Sensor Glucose (mg/dL)']].loc[(auto_mode_data_df_date_index['Sensor Glucose (mg/dL)']>=70) & (auto_mode_data_df_date_index['Sensor Glucose (mg/dL)']<=150)].groupby('Date')['Sensor Glucose (mg/dL)'].count()/288*100)"
   ]
  },
  {
   "cell_type": "markdown",
   "metadata": {},
   "source": [
    "### % in hypoglycemia level 1 (CGM < 70 mg/dL) - wholeday, daytime, overnight"
   ]
  },
  {
   "cell_type": "code",
   "execution_count": 28,
   "metadata": {},
   "outputs": [],
   "source": [
    "percent_time_in_hypoglycemia_lv1_wholeday_automode=(auto_mode_data_df_date_index.between_time('0:00:00','23:59:59')[['Date','Time','Sensor Glucose (mg/dL)']].loc[auto_mode_data_df_date_index['Sensor Glucose (mg/dL)']<70].groupby('Date')['Sensor Glucose (mg/dL)'].count()/288*100)"
   ]
  },
  {
   "cell_type": "code",
   "execution_count": 29,
   "metadata": {},
   "outputs": [],
   "source": [
    "percent_time_in_hypoglycemia_lv1_daytime_automode=(auto_mode_data_df_date_index.between_time('6:00:00','23:59:59')[['Date','Time','Sensor Glucose (mg/dL)']].loc[auto_mode_data_df_date_index['Sensor Glucose (mg/dL)']<70].groupby('Date')['Sensor Glucose (mg/dL)'].count()/288*100)"
   ]
  },
  {
   "cell_type": "code",
   "execution_count": 30,
   "metadata": {},
   "outputs": [],
   "source": [
    "percent_time_in_hypoglycemia_lv1_overnight_automode=(auto_mode_data_df_date_index.between_time('0:00:00','05:59:59')[['Date','Time','Sensor Glucose (mg/dL)']].loc[auto_mode_data_df_date_index['Sensor Glucose (mg/dL)']<70].groupby('Date')['Sensor Glucose (mg/dL)'].count()/288*100)"
   ]
  },
  {
   "cell_type": "markdown",
   "metadata": {},
   "source": [
    "### % in hypoglycemia level 2 (CGM < 54 mg/dL) - wholeday, daytime, overnight"
   ]
  },
  {
   "cell_type": "code",
   "execution_count": 31,
   "metadata": {},
   "outputs": [],
   "source": [
    "percent_time_in_hypoglycemia_lv2_wholeday_automode=(auto_mode_data_df_date_index.between_time('0:00:00','23:59:59')[['Date','Time','Sensor Glucose (mg/dL)']].loc[auto_mode_data_df_date_index['Sensor Glucose (mg/dL)']<54].groupby('Date')['Sensor Glucose (mg/dL)'].count()/288*100)"
   ]
  },
  {
   "cell_type": "code",
   "execution_count": 32,
   "metadata": {},
   "outputs": [],
   "source": [
    "percent_time_in_hypoglycemia_lv2_daytime_automode=(auto_mode_data_df_date_index.between_time('6:00:00','23:59:59')[['Date','Time','Sensor Glucose (mg/dL)']].loc[auto_mode_data_df_date_index['Sensor Glucose (mg/dL)']<54].groupby('Date')['Sensor Glucose (mg/dL)'].count()/288*100)"
   ]
  },
  {
   "cell_type": "code",
   "execution_count": 33,
   "metadata": {},
   "outputs": [],
   "source": [
    "percent_time_in_hypoglycemia_lv2_overnight_automode=(auto_mode_data_df_date_index.between_time('0:00:00','05:59:59')[['Date','Time','Sensor Glucose (mg/dL)']].loc[auto_mode_data_df_date_index['Sensor Glucose (mg/dL)']<54].groupby('Date')['Sensor Glucose (mg/dL)'].count()/288*100)"
   ]
  },
  {
   "cell_type": "code",
   "execution_count": 34,
   "metadata": {},
   "outputs": [],
   "source": [
    "manual_mode_data_df_index=manual_mode_data_df.copy()\n",
    "manual_mode_data_df_index=manual_mode_data_df_index.set_index('date_time_stamp')"
   ]
  },
  {
   "cell_type": "code",
   "execution_count": 35,
   "metadata": {},
   "outputs": [],
   "source": [
    "list2=manual_mode_data_df_index.groupby('Date')['Sensor Glucose (mg/dL)'].count().where(lambda x:x>0.8*288).dropna().index.tolist()\n",
    "# "
   ]
  },
  {
   "cell_type": "code",
   "execution_count": 36,
   "metadata": {},
   "outputs": [],
   "source": [
    "manual_mode_data_df_index=manual_mode_data_df_index.loc[manual_mode_data_df_index['Date'].isin(list2)]"
   ]
  },
  {
   "cell_type": "markdown",
   "metadata": {},
   "source": [
    "### % in Hyperglycemia (> 180 mg/dL) - wholeday, daytime, overnight"
   ]
  },
  {
   "cell_type": "code",
   "execution_count": 37,
   "metadata": {},
   "outputs": [],
   "source": [
    "percent_time_in_hyperglycemia_wholeday_manual=(manual_mode_data_df_index.between_time('0:00:00','23:59:59')[['Date','Time','Sensor Glucose (mg/dL)']].loc[manual_mode_data_df_index['Sensor Glucose (mg/dL)']>180].groupby('Date')['Sensor Glucose (mg/dL)'].count()/288*100)"
   ]
  },
  {
   "cell_type": "code",
   "execution_count": 38,
   "metadata": {},
   "outputs": [],
   "source": [
    "percent_time_in_hyperglycemia_daytime_manual=(manual_mode_data_df_index.between_time('6:00:00','23:59:59')[['Date','Time','Sensor Glucose (mg/dL)']].loc[manual_mode_data_df_index['Sensor Glucose (mg/dL)']>180].groupby('Date')['Sensor Glucose (mg/dL)'].count()/288*100)"
   ]
  },
  {
   "cell_type": "code",
   "execution_count": 39,
   "metadata": {},
   "outputs": [],
   "source": [
    "percent_time_in_hyperglycemia_overnight_manual=(manual_mode_data_df_index.between_time('0:00:00','05:59:59')[['Date','Time','Sensor Glucose (mg/dL)']].loc[manual_mode_data_df_index['Sensor Glucose (mg/dL)']>180].groupby('Date')['Sensor Glucose (mg/dL)'].count()/288*100)"
   ]
  },
  {
   "cell_type": "markdown",
   "metadata": {},
   "source": [
    "### % in Hyperglycemia critical (> 250 mg/dL) - wholeday, daytime, overnight"
   ]
  },
  {
   "cell_type": "code",
   "execution_count": 40,
   "metadata": {},
   "outputs": [],
   "source": [
    "percent_time_in_hyperglycemia_critical_wholeday_manual=(manual_mode_data_df_index.between_time('0:00:00','23:59:59')[['Date','Time','Sensor Glucose (mg/dL)']].loc[manual_mode_data_df_index['Sensor Glucose (mg/dL)']>250].groupby('Date')['Sensor Glucose (mg/dL)'].count()/288*100)"
   ]
  },
  {
   "cell_type": "code",
   "execution_count": 41,
   "metadata": {},
   "outputs": [],
   "source": [
    "percent_time_in_hyperglycemia_critical_daytime_manual=(manual_mode_data_df_index.between_time('6:00:00','23:59:59')[['Date','Time','Sensor Glucose (mg/dL)']].loc[manual_mode_data_df_index['Sensor Glucose (mg/dL)']>250].groupby('Date')['Sensor Glucose (mg/dL)'].count()/288*100)"
   ]
  },
  {
   "cell_type": "code",
   "execution_count": 42,
   "metadata": {},
   "outputs": [],
   "source": [
    "percent_time_in_hyperglycemia_critical_overnight_manual=(manual_mode_data_df_index.between_time('0:00:00','05:59:59')[['Date','Time','Sensor Glucose (mg/dL)']].loc[manual_mode_data_df_index['Sensor Glucose (mg/dL)']>250].groupby('Date')['Sensor Glucose (mg/dL)'].count()/288*100)"
   ]
  },
  {
   "cell_type": "markdown",
   "metadata": {},
   "source": [
    "### %  in range (CGM >= 70 mg/dL and CGM <= 180 mg/dL) - wholeday, daytime, overnight"
   ]
  },
  {
   "cell_type": "code",
   "execution_count": 43,
   "metadata": {},
   "outputs": [],
   "source": [
    "percent_time_in_range_wholeday_manual=(manual_mode_data_df_index.between_time('0:00:00','23:59:59')[['Date','Time','Sensor Glucose (mg/dL)']].loc[(manual_mode_data_df_index['Sensor Glucose (mg/dL)']>=70) & (manual_mode_data_df_index['Sensor Glucose (mg/dL)']<=180)].groupby('Date')['Sensor Glucose (mg/dL)'].count()/288*100)"
   ]
  },
  {
   "cell_type": "code",
   "execution_count": 44,
   "metadata": {},
   "outputs": [],
   "source": [
    "percent_time_in_range_daytime_manual=(manual_mode_data_df_index.between_time('6:00:00','23:59:59')[['Date','Time','Sensor Glucose (mg/dL)']].loc[(manual_mode_data_df_index['Sensor Glucose (mg/dL)']>=70) & (manual_mode_data_df_index['Sensor Glucose (mg/dL)']<=180)].groupby('Date')['Sensor Glucose (mg/dL)'].count()/288*100)"
   ]
  },
  {
   "cell_type": "code",
   "execution_count": 45,
   "metadata": {},
   "outputs": [],
   "source": [
    "percent_time_in_range_overnight_manual=(manual_mode_data_df_index.between_time('0:00:00','05:59:59')[['Date','Time','Sensor Glucose (mg/dL)']].loc[(manual_mode_data_df_index['Sensor Glucose (mg/dL)']>=70) & (manual_mode_data_df_index['Sensor Glucose (mg/dL)']<=180)].groupby('Date')['Sensor Glucose (mg/dL)'].count()/288*100)"
   ]
  },
  {
   "cell_type": "markdown",
   "metadata": {},
   "source": [
    "### %  in range secondary (CGM >= 70 mg/dL and CGM <= 150 mg/dL) - wholeday, daytime, overnight"
   ]
  },
  {
   "cell_type": "code",
   "execution_count": 46,
   "metadata": {},
   "outputs": [],
   "source": [
    "percent_time_in_range_sec_wholeday_manual=(manual_mode_data_df_index.between_time('0:00:00','23:59:59')[['Date','Time','Sensor Glucose (mg/dL)']].loc[(manual_mode_data_df_index['Sensor Glucose (mg/dL)']>=70) & (manual_mode_data_df_index['Sensor Glucose (mg/dL)']<=150)].groupby('Date')['Sensor Glucose (mg/dL)'].count()/288*100)"
   ]
  },
  {
   "cell_type": "code",
   "execution_count": 47,
   "metadata": {},
   "outputs": [],
   "source": [
    "percent_time_in_range_sec_daytime_manual=(manual_mode_data_df_index.between_time('6:00:00','23:59:59')[['Date','Time','Sensor Glucose (mg/dL)']].loc[(manual_mode_data_df_index['Sensor Glucose (mg/dL)']>=70) & (manual_mode_data_df_index['Sensor Glucose (mg/dL)']<=150)].groupby('Date')['Sensor Glucose (mg/dL)'].count()/288*100)"
   ]
  },
  {
   "cell_type": "code",
   "execution_count": 48,
   "metadata": {},
   "outputs": [],
   "source": [
    "percent_time_in_range_sec_overnight_manual=(manual_mode_data_df_index.between_time('0:00:00','05:59:59')[['Date','Time','Sensor Glucose (mg/dL)']].loc[(manual_mode_data_df_index['Sensor Glucose (mg/dL)']>=70) & (manual_mode_data_df_index['Sensor Glucose (mg/dL)']<=150)].groupby('Date')['Sensor Glucose (mg/dL)'].count()/288*100)"
   ]
  },
  {
   "cell_type": "markdown",
   "metadata": {},
   "source": [
    "### % in hypoglycemia level 1 (CGM < 70 mg/dL) - wholeday, daytime, overnight"
   ]
  },
  {
   "cell_type": "code",
   "execution_count": 49,
   "metadata": {},
   "outputs": [],
   "source": [
    "percent_time_in_hypoglycemia_lv1_wholeday_manual=(manual_mode_data_df_index.between_time('0:00:00','23:59:59')[['Date','Time','Sensor Glucose (mg/dL)']].loc[manual_mode_data_df_index['Sensor Glucose (mg/dL)']<70].groupby('Date')['Sensor Glucose (mg/dL)'].count()/288*100)"
   ]
  },
  {
   "cell_type": "code",
   "execution_count": 50,
   "metadata": {},
   "outputs": [],
   "source": [
    "percent_time_in_hypoglycemia_lv1_daytime_manual=(manual_mode_data_df_index.between_time('6:00:00','23:59:59')[['Date','Time','Sensor Glucose (mg/dL)']].loc[manual_mode_data_df_index['Sensor Glucose (mg/dL)']<70].groupby('Date')['Sensor Glucose (mg/dL)'].count()/288*100)"
   ]
  },
  {
   "cell_type": "code",
   "execution_count": 51,
   "metadata": {},
   "outputs": [],
   "source": [
    "percent_time_in_hypoglycemia_lv1_overnight_manual=(manual_mode_data_df_index.between_time('0:00:00','05:59:59')[['Date','Time','Sensor Glucose (mg/dL)']].loc[manual_mode_data_df_index['Sensor Glucose (mg/dL)']<70].groupby('Date')['Sensor Glucose (mg/dL)'].count()/288*100)"
   ]
  },
  {
   "cell_type": "markdown",
   "metadata": {},
   "source": [
    "### % in hypoglycemia level 2 (CGM < 54 mg/dL) - wholeday, daytime, overnight"
   ]
  },
  {
   "cell_type": "code",
   "execution_count": 52,
   "metadata": {},
   "outputs": [],
   "source": [
    "percent_time_in_hypoglycemia_lv2_wholeday_manual=(manual_mode_data_df_index.between_time('0:00:00','23:59:59')[['Date','Time','Sensor Glucose (mg/dL)']].loc[manual_mode_data_df_index['Sensor Glucose (mg/dL)']<54].groupby('Date')['Sensor Glucose (mg/dL)'].count()/288*100)"
   ]
  },
  {
   "cell_type": "code",
   "execution_count": 53,
   "metadata": {},
   "outputs": [],
   "source": [
    "percent_time_in_hypoglycemia_lv2_daytime_manual=(manual_mode_data_df_index.between_time('6:00:00','23:59:59')[['Date','Time','Sensor Glucose (mg/dL)']].loc[manual_mode_data_df_index['Sensor Glucose (mg/dL)']<54].groupby('Date')['Sensor Glucose (mg/dL)'].count()/288*100)"
   ]
  },
  {
   "cell_type": "code",
   "execution_count": 64,
   "metadata": {},
   "outputs": [
    {
     "name": "stdout",
     "output_type": "stream",
     "text": [
      "Series([], Name: Sensor Glucose (mg/dL), dtype: float64)\n"
     ]
    }
   ],
   "source": [
    "percent_time_in_hypoglycemia_lv2_overnight_manual=(manual_mode_data_df_index.between_time('0:00:00','05:59:59')[['Date','Time','Sensor Glucose (mg/dL)']].loc[manual_mode_data_df_index['Sensor Glucose (mg/dL)']<54].groupby('Date')['Sensor Glucose (mg/dL)'].count()/288*100)"
   ]
  },
  {
   "cell_type": "markdown",
   "metadata": {},
   "source": [
    "### convert to a dataframe with all values in auto mode and manual mode"
   ]
  },
  {
   "cell_type": "code",
   "execution_count": 55,
   "metadata": {},
   "outputs": [
    {
     "ename": "SyntaxError",
     "evalue": "unexpected EOF while parsing (888109144.py, line 1)",
     "output_type": "error",
     "traceback": [
      "\u001b[1;36m  Cell \u001b[1;32mIn [55], line 1\u001b[1;36m\u001b[0m\n\u001b[1;33m    results_df = pd.DataFrame({'percent_time_in_hyperglycemia_overnight':[ percent_time_in_hyperglycemia_overnight_manual.mean(axis=0),percent_time_in_hyperglycemia_overnight_automode.mean(axis=0)],\u001b[0m\n\u001b[1;37m                                                                                                                                                                                                      ^\u001b[0m\n\u001b[1;31mSyntaxError\u001b[0m\u001b[1;31m:\u001b[0m unexpected EOF while parsing\n"
     ]
    }
   ],
   "source": [
    "results_df = pd.DataFrame({'percent_time_in_hyperglycemia_overnight':[ percent_time_in_hyperglycemia_overnight_manual.mean(axis=0),percent_time_in_hyperglycemia_overnight_automode.mean(axis=0)],"
   ]
  },
  {
   "cell_type": "code",
   "execution_count": 58,
   "metadata": {},
   "outputs": [
    {
     "ename": "SyntaxError",
     "evalue": "illegal target for annotation (1945316966.py, line 1)",
     "output_type": "error",
     "traceback": [
      "\u001b[1;36m  Cell \u001b[1;32mIn [58], line 1\u001b[1;36m\u001b[0m\n\u001b[1;33m    'percent_time_in_hyperglycemia_critical_overnight':[ percent_time_in_hyperglycemia_critical_overnight_manual.mean(axis=0),percent_time_in_hyperglycemia_critical_overnight_automode.mean(axis=0)],\\\u001b[0m\n\u001b[1;37m    ^\u001b[0m\n\u001b[1;31mSyntaxError\u001b[0m\u001b[1;31m:\u001b[0m illegal target for annotation\n"
     ]
    }
   ],
   "source": [
    "'percent_time_in_hyperglycemia_critical_overnight':[ percent_time_in_hyperglycemia_critical_overnight_manual.mean(axis=0),percent_time_in_hyperglycemia_critical_overnight_automode.mean(axis=0)],"
   ]
  },
  {
   "cell_type": "code",
   "execution_count": 68,
   "metadata": {},
   "outputs": [],
   "source": [
    "results_df = pd.DataFrame({'percent_time_in_hyperglycemia_overnight':[ percent_time_in_hyperglycemia_overnight_manual.mean(axis=0),percent_time_in_hyperglycemia_overnight_automode.mean(axis=0)],'percent_time_in_hyperglycemia_critical_overnight':[ percent_time_in_hyperglycemia_critical_overnight_manual.mean(axis=0),percent_time_in_hyperglycemia_critical_overnight_automode.mean(axis=0)],'percent_time_in_range_overnight':[ percent_time_in_range_overnight_manual.mean(axis=0),percent_time_in_range_overnight_automode.mean(axis=0)],'percent_time_in_range_sec_overnight':[ percent_time_in_range_sec_overnight_manual.mean(axis=0),percent_time_in_range_sec_overnight_automode.mean(axis=0)],'percent_time_in_hypoglycemia_lv1_overnight':[ percent_time_in_hypoglycemia_lv1_overnight_manual.mean(axis=0),percent_time_in_hypoglycemia_lv1_overnight_automode.mean(axis=0)],'percent_time_in_hypoglycemia_lv2_overnight':[ np.nan_to_num(percent_time_in_hypoglycemia_lv2_overnight_manual.mean(axis=0)), np.nan_to_num(percent_time_in_hypoglycemia_lv2_overnight_automode.mean(axis=0))],'percent_time_in_hyperglycemia_daytime':[ percent_time_in_hyperglycemia_daytime_manual.mean(axis=0),percent_time_in_hyperglycemia_daytime_automode.mean(axis=0)],'percent_time_in_hyperglycemia_critical_daytime':[ percent_time_in_hyperglycemia_critical_daytime_manual.mean(axis=0),percent_time_in_hyperglycemia_critical_daytime_automode.mean(axis=0)],'percent_time_in_range_daytime':[ percent_time_in_range_daytime_manual.mean(axis=0),percent_time_in_range_daytime_automode.mean(axis=0)],'percent_time_in_range_sec_daytime':[ percent_time_in_range_sec_daytime_manual.mean(axis=0),percent_time_in_range_sec_daytime_automode.mean(axis=0)],'percent_time_in_hypoglycemia_lv1_daytime':[ percent_time_in_hypoglycemia_lv1_daytime_manual.mean(axis=0),percent_time_in_hypoglycemia_lv1_daytime_automode.mean(axis=0)],'percent_time_in_hypoglycemia_lv2_daytime':[ percent_time_in_hypoglycemia_lv2_daytime_manual.mean(axis=0),percent_time_in_hypoglycemia_lv2_daytime_automode.mean(axis=0)],'percent_time_in_hyperglycemia_wholeday':[ percent_time_in_hyperglycemia_wholeday_manual.mean(axis=0),percent_time_in_hyperglycemia_wholeday_automode.mean(axis=0)],'percent_time_in_hyperglycemia_critical_wholeday':[ percent_time_in_hyperglycemia_critical_wholeday_manual.mean(axis=0),percent_time_in_hyperglycemia_critical_wholeday_automode.mean(axis=0)],'percent_time_in_range_wholeday':[ percent_time_in_range_wholeday_manual.mean(axis=0),percent_time_in_range_wholeday_automode.mean(axis=0)],'percent_time_in_range_sec_wholeday':[ percent_time_in_range_sec_wholeday_manual.mean(axis=0),percent_time_in_range_sec_wholeday_automode.mean(axis=0)],'percent_time_in_hypoglycemia_lv1_wholeday':[ percent_time_in_hypoglycemia_lv1_wholeday_manual.mean(axis=0),percent_time_in_hypoglycemia_lv1_wholeday_automode.mean(axis=0)],'percent_time_in_hypoglycemia_lv2_wholeday':[ percent_time_in_hypoglycemia_lv2_wholeday_manual.mean(axis=0),percent_time_in_hypoglycemia_lv2_wholeday_automode.mean(axis=0)]                                       }, index=['manual_mode','auto_mode'])"
   ]
  },
  {
   "cell_type": "code",
   "execution_count": 70,
   "metadata": {},
   "outputs": [],
   "source": [
    "results_df.to_csv('Results.csv',header=False,index=False)"
   ]
  },
  {
   "cell_type": "code",
   "execution_count": null,
   "metadata": {},
   "outputs": [],
   "source": []
  }
 ],
 "metadata": {
  "kernelspec": {
   "display_name": "Python 3 (ipykernel)",
   "language": "python",
   "name": "python3"
  },
  "language_info": {
   "codemirror_mode": {
    "name": "ipython",
    "version": 3
   },
   "file_extension": ".py",
   "mimetype": "text/x-python",
   "name": "python",
   "nbconvert_exporter": "python",
   "pygments_lexer": "ipython3",
   "version": "3.9.13"
  }
 },
 "nbformat": 4,
 "nbformat_minor": 2
}
